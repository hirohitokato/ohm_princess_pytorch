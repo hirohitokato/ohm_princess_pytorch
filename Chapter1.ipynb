{
  "nbformat": 4,
  "nbformat_minor": 0,
  "metadata": {
    "colab": {
      "provenance": [],
      "collapsed_sections": [],
      "authorship_tag": "ABX9TyOFlgPkQ9OzeOBy7vgzTmQQ",
      "include_colab_link": true
    },
    "kernelspec": {
      "name": "python3",
      "display_name": "Python 3"
    },
    "language_info": {
      "name": "python"
    }
  },
  "cells": [
    {
      "cell_type": "markdown",
      "metadata": {
        "id": "view-in-github",
        "colab_type": "text"
      },
      "source": [
        "<a href=\"https://colab.research.google.com/github/hirohitokato/ohm_princess_pytorch/blob/main/Chapter1.ipynb\" target=\"_parent\"><img src=\"https://colab.research.google.com/assets/colab-badge.svg\" alt=\"Open In Colab\"/></a>"
      ]
    },
    {
      "cell_type": "markdown",
      "source": [
        "# Pythonで機械学習入門機械学習入門(Pytorch版) Chapter1"
      ],
      "metadata": {
        "id": "Deh-gZ8DFTqG"
      }
    },
    {
      "cell_type": "code",
      "execution_count": 2,
      "metadata": {
        "id": "hjCgXFU9FK3a"
      },
      "outputs": [],
      "source": [
        "import numpy as np\n",
        "import matplotlib.pyplot as plt"
      ]
    },
    {
      "cell_type": "code",
      "source": [
        "D = 100\n",
        "N = 2\n",
        "xdata = np.random.randn(D*N).reshape(D,N).astype(np.float32)"
      ],
      "metadata": {
        "id": "vzuzWRuMHxAJ"
      },
      "execution_count": 4,
      "outputs": []
    },
    {
      "cell_type": "code",
      "source": [
        "plt.scatter(xdata[:,0], xdata[:,1])\n",
        "plt.show()"
      ],
      "metadata": {
        "colab": {
          "base_uri": "https://localhost:8080/",
          "height": 268
        },
        "id": "j7GdfgVjIB6n",
        "outputId": "fc61f325-3738-40d3-8217-e44a404072c0"
      },
      "execution_count": 6,
      "outputs": [
        {
          "output_type": "display_data",
          "data": {
            "text/plain": [
              "<Figure size 432x288 with 1 Axes>"
            ],
            "image/png": "[encoded data removed]"
          },
          "metadata": {
            "needs_background": "light"
          }
        }
      ]
    },
    {
      "cell_type": "code",
      "source": [
        "def f(x):\n",
        "  y = x * x\n",
        "  return y"
      ],
      "metadata": {
        "id": "yTK7p8c0IQtc"
      },
      "execution_count": 8,
      "outputs": []
    },
    {
      "cell_type": "code",
      "source": [
        "tdata = (xdata[:,1] > f(xdata[:,0])).astype(np.int32)\n",
        "tdata # 条件を満たすデータの出力"
      ],
      "metadata": {
        "colab": {
          "base_uri": "https://localhost:8080/"
        },
        "id": "203U8AXtIUy1",
        "outputId": "cd46749c-b261-4dc9-f16a-49b3041169ac"
      },
      "execution_count": 11,
      "outputs": [
        {
          "output_type": "execute_result",
          "data": {
            "text/plain": [
              "array([1, 0, 0, 0, 0, 1, 0, 0, 0, 0, 0, 0, 1, 1, 0, 0, 1, 0, 0, 0, 0, 0,\n",
              "       0, 0, 0, 0, 0, 1, 0, 0, 1, 0, 0, 0, 0, 0, 0, 0, 0, 1, 1, 0, 0, 0,\n",
              "       1, 0, 1, 0, 0, 0, 0, 0, 1, 0, 1, 0, 0, 0, 1, 0, 1, 0, 0, 1, 0, 0,\n",
              "       0, 0, 1, 1, 0, 0, 0, 0, 0, 1, 1, 0, 0, 1, 0, 0, 1, 0, 0, 0, 0, 0,\n",
              "       0, 1, 0, 1, 0, 1, 0, 1, 0, 1, 0, 0], dtype=int32)"
            ]
          },
          "metadata": {},
          "execution_count": 11
        }
      ]
    },
    {
      "cell_type": "code",
      "source": [
        "# ↑で作ったたtdataの、の、0,1それぞれの値になっている要素インデックスを出力\n",
        "ndata0 = np.where(tdata == 0)\n",
        "ndata1 = np.where(tdata == 1)\n",
        "ndata0,ndata1"
      ],
      "metadata": {
        "colab": {
          "base_uri": "https://localhost:8080/"
        },
        "id": "dYlT5dkYIicL",
        "outputId": "fb8fc409-08b0-4681-a527-44d84141aebd"
      },
      "execution_count": 12,
      "outputs": [
        {
          "output_type": "execute_result",
          "data": {
            "text/plain": [
              "((array([ 1,  2,  3,  4,  6,  7,  8,  9, 10, 11, 14, 15, 17, 18, 19, 20, 21,\n",
              "         22, 23, 24, 25, 26, 28, 29, 31, 32, 33, 34, 35, 36, 37, 38, 41, 42,\n",
              "         43, 45, 47, 48, 49, 50, 51, 53, 55, 56, 57, 59, 61, 62, 64, 65, 66,\n",
              "         67, 70, 71, 72, 73, 74, 77, 78, 80, 81, 83, 84, 85, 86, 87, 88, 90,\n",
              "         92, 94, 96, 98, 99]),),\n",
              " (array([ 0,  5, 12, 13, 16, 27, 30, 39, 40, 44, 46, 52, 54, 58, 60, 63, 68,\n",
              "         69, 75, 76, 79, 82, 89, 91, 93, 95, 97]),))"
            ]
          },
          "metadata": {},
          "execution_count": 12
        }
      ]
    },
    {
      "cell_type": "code",
      "source": [
        "# -2から2の範囲で100個の点を作成しx, f(x)でプロット\n",
        "# さらに曲線の上下にあるデータをそれぞれ別の記号でプロット\n",
        "x = np.linspace(-2,2,D)\n",
        "plt.plot(x, f(x))\n",
        "plt.scatter(xdata[ndata0,0], xdata[ndata0,1],marker=\"x\")\n",
        "plt.scatter(xdata[ndata1,0], xdata[ndata1,1],marker=\"o\")\n",
        "plt.show() # 豆：plt.show()を呼ぶまでは重ね書きができる"
      ],
      "metadata": {
        "colab": {
          "base_uri": "https://localhost:8080/",
          "height": 282
        },
        "id": "3G4_JdrdI9_N",
        "outputId": "64b25c41-8daa-4477-f50b-645741a49b8d"
      },
      "execution_count": 16,
      "outputs": [
        {
          "output_type": "execute_result",
          "data": {
            "text/plain": [
              "<matplotlib.collections.PathCollection at 0x7fd2d7a2cc90>"
            ]
          },
          "metadata": {},
          "execution_count": 16
        },
        {
          "output_type": "display_data",
          "data": {
            "text/plain": [
              "<Figure size 432x288 with 1 Axes>"
            ],
            "image/png": "[encoded data removed]"
          },
          "metadata": {
            "needs_background": "light"
          }
        }
      ]
    }
  ]
}