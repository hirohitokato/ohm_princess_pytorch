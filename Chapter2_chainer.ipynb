{
  "nbformat": 4,
  "nbformat_minor": 0,
  "metadata": {
    "colab": {
      "provenance": [],
      "authorship_tag": "ABX9TyMVyPWWCydNZB5hvwV8vRJl",
      "include_colab_link": true
    },
    "kernelspec": {
      "name": "python3",
      "display_name": "Python 3"
    },
    "language_info": {
      "name": "python"
    }
  },
  "cells": [
    {
      "cell_type": "markdown",
      "metadata": {
        "id": "view-in-github",
        "colab_type": "text"
      },
      "source": [
        "<a href=\"https://colab.research.google.com/github/hirohitokato/ohm_princess_pytorch/blob/main/Chapter2_chainer.ipynb\" target=\"_parent\"><img src=\"https://colab.research.google.com/assets/colab-badge.svg\" alt=\"Open In Colab\"/></a>"
      ]
    },
    {
      "cell_type": "markdown",
      "source": [
        "\n",
        "# Pythonで機械学習入門機械学習入門(Chainer版) **Chapter2**\n",
        "\n",
        "pytorch版が正しく動いているかわからないのでChainerで動かしてみる"
      ],
      "metadata": {
        "id": "6pG7PUZ0xo_M"
      }
    },
    {
      "cell_type": "code",
      "execution_count": 16,
      "metadata": {
        "colab": {
          "base_uri": "https://localhost:8080/"
        },
        "id": "Z32pPnz8xfHI",
        "outputId": "905459ca-25cc-4e34-f702-6c9afd3d796a"
      },
      "outputs": [
        {
          "output_type": "stream",
          "name": "stdout",
          "text": [
            "Looking in indexes: https://pypi.org/simple, https://us-python.pkg.dev/colab-wheels/public/simple/\n",
            "Requirement already satisfied: chainer in /usr/local/lib/python3.7/dist-packages (7.8.1)\n",
            "Requirement already satisfied: protobuf>=3.0.0 in /usr/local/lib/python3.7/dist-packages (from chainer) (3.17.3)\n",
            "Requirement already satisfied: numpy>=1.9.0 in /usr/local/lib/python3.7/dist-packages (from chainer) (1.21.6)\n",
            "Requirement already satisfied: setuptools in /usr/local/lib/python3.7/dist-packages (from chainer) (57.4.0)\n",
            "Requirement already satisfied: typing-extensions in /usr/local/lib/python3.7/dist-packages (from chainer) (4.1.1)\n",
            "Requirement already satisfied: six>=1.9.0 in /usr/local/lib/python3.7/dist-packages (from chainer) (1.15.0)\n",
            "Requirement already satisfied: filelock in /usr/local/lib/python3.7/dist-packages (from chainer) (3.8.0)\n"
          ]
        }
      ],
      "source": [
        "!pip install chainer"
      ]
    },
    {
      "cell_type": "code",
      "source": [
        "import chainer.optimizers as Opt\n",
        "import chainer.functions as F\n",
        "import chainer.links as L\n",
        "from chainer import Variable, Chain, config"
      ],
      "metadata": {
        "id": "1pJVHLPox6Bm"
      },
      "execution_count": 17,
      "outputs": []
    },
    {
      "cell_type": "code",
      "source": [
        "import numpy as np\n",
        "import matplotlib.pyplot as plt\n",
        "\n",
        "def f(x):\n",
        "  y = x * x\n",
        "  return y\n",
        "\n",
        "D = 100\n",
        "N = 2\n",
        "C = 2\n",
        "xdata = np.random.randn(D*N).reshape(D,N).astype(np.float32)\n",
        "tdata = (xdata[:,1]>f(xdata[:,0])).astype(np.int32)"
      ],
      "metadata": {
        "id": "lmWEtahkyLaY"
      },
      "execution_count": 18,
      "outputs": []
    },
    {
      "cell_type": "code",
      "source": [
        "NN = Chain(l1=L.Linear(N,4), l2=L.Linear(4,C))\n",
        "def model(x):\n",
        "  h = NN.l1(x)\n",
        "  h = F.sigmoid(h)\n",
        "  y = NN.l2(h)\n",
        "  return y"
      ],
      "metadata": {
        "id": "UYhFRZPNykIL"
      },
      "execution_count": 27,
      "outputs": []
    },
    {
      "cell_type": "code",
      "source": [
        "ydata = model(xdata)\n",
        "acc = F.accuracy(ydata, tdata)"
      ],
      "metadata": {
        "id": "pasieCVfyxz_"
      },
      "execution_count": 28,
      "outputs": []
    },
    {
      "cell_type": "code",
      "source": [
        "optNN = Opt.SGD()\n",
        "optNN.setup(NN)\n",
        "\n",
        "loss_series = []\n",
        "acc_series = []\n",
        "\n",
        "T = 20000\n",
        "for time in range(T):\n",
        "  config.train = True\n",
        "  optNN.target.zerograds()\n",
        "  ydata = model(xdata)\n",
        "  loss = F.softmax_cross_entropy(ydata, tdata)\n",
        "  acc = F.accuracy(ydata, tdata)\n",
        "  loss.backward()\n",
        "  optNN.update()\n",
        "  loss_series.append(loss.data)\n",
        "  acc_series.append(acc.data)\n",
        "\n",
        "Tall = len(loss_series)\n",
        "plt.figure(figsize=(8,6))\n",
        "plt.plot(range(Tall), loss_series)\n",
        "plt.plot(range(Tall), acc_series)\n",
        "plt.title(\"loss function in training\")\n",
        "plt.xlabel(\"step\")\n",
        "plt.ylabel(\"loss function\")\n",
        "plt.xlim([0,Tall])\n",
        "plt.ylim([0,1])\n",
        "plt.show()"
      ],
      "metadata": {
        "colab": {
          "base_uri": "https://localhost:8080/",
          "height": 404
        },
        "id": "KY3ogcwKy_dA",
        "outputId": "15332a91-cda0-471e-a16a-a87fd41cd428"
      },
      "execution_count": 29,
      "outputs": [
        {
          "output_type": "display_data",
          "data": {
            "text/plain": [
              "<Figure size 576x432 with 1 Axes>"
            ],
            "image/png": "[encoded data removed]"
          },
          "metadata": {
            "needs_background": "light"
          }
        }
      ]
    }
  ]
}