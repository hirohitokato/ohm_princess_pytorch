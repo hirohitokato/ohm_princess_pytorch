{
  "nbformat": 4,
  "nbformat_minor": 0,
  "metadata": {
    "colab": {
      "provenance": [],
      "collapsed_sections": [],
      "authorship_tag": "ABX9TyNiH1LVnR6Wcrx7fDSyuweA",
      "include_colab_link": true
    },
    "kernelspec": {
      "name": "python3",
      "display_name": "Python 3"
    },
    "language_info": {
      "name": "python"
    }
  },
  "cells": [
    {
      "cell_type": "markdown",
      "metadata": {
        "id": "view-in-github",
        "colab_type": "text"
      },
      "source": [
        "<a href=\"https://colab.research.google.com/github/hirohitokato/ohm_princess_pytorch/blob/main/Chapter2.ipynb\" target=\"_parent\"><img src=\"https://colab.research.google.com/assets/colab-badge.svg\" alt=\"Open In Colab\"/></a>"
      ]
    },
    {
      "cell_type": "markdown",
      "source": [
        "\n",
        "# Pythonで機械学習入門機械学習入門(Pytorch版) **Chapter2**"
      ],
      "metadata": {
        "id": "nIANBcW-MJWA"
      }
    },
    {
      "cell_type": "code",
      "source": [
        "!pip install torchviz\n",
        "!pip install torchinfo"
      ],
      "metadata": {
        "colab": {
          "base_uri": "https://localhost:8080/"
        },
        "id": "P6CcB8UeCvCo",
        "outputId": "4c112b40-a7ae-4eaf-bb6d-028a4b3b11d1"
      },
      "execution_count": 135,
      "outputs": [
        {
          "output_type": "stream",
          "name": "stdout",
          "text": [
            "Looking in indexes: https://pypi.org/simple, https://us-python.pkg.dev/colab-wheels/public/simple/\n",
            "Requirement already satisfied: torchviz in /usr/local/lib/python3.7/dist-packages (0.0.2)\n",
            "Requirement already satisfied: graphviz in /usr/local/lib/python3.7/dist-packages (from torchviz) (0.10.1)\n",
            "Requirement already satisfied: torch in /usr/local/lib/python3.7/dist-packages (from torchviz) (1.12.1+cu113)\n",
            "Requirement already satisfied: typing-extensions in /usr/local/lib/python3.7/dist-packages (from torch->torchviz) (4.1.1)\n",
            "Looking in indexes: https://pypi.org/simple, https://us-python.pkg.dev/colab-wheels/public/simple/\n",
            "Requirement already satisfied: torchinfo in /usr/local/lib/python3.7/dist-packages (1.7.1)\n"
          ]
        }
      ]
    },
    {
      "cell_type": "code",
      "execution_count": 136,
      "metadata": {
        "id": "U8cgc87PMHI3"
      },
      "outputs": [],
      "source": [
        "import numpy as np\n",
        "import matplotlib.pyplot as plt\n",
        "import torch\n",
        "import torch.optim as optim\t# 最適化関数関係(from chainer import optimizers)\n",
        "import torch.nn.functional as F\t# 関数関係(import chainer.functions as F)\n",
        "import torch.nn as nn\t# ネットワーク関係(import chainer.links as L)\n",
        "\n",
        "# デバッグ用途\n",
        "from torchviz import make_dot\n",
        "from torchinfo import summary"
      ]
    },
    {
      "cell_type": "markdown",
      "source": [
        "`from chainer import Variable, Chain, config` については以下のように扱う。。\n",
        "* `Variable(np.ndarray)` : `torch.from_numpy(np.ndarray)`\n",
        "* `class DNN(Chain):` : `class DNN(nn.Module):`\n",
        "* `config.train = True` : **不明。要調査**\n",
        "\n",
        "[公式のmigration_guide](https://chainer.github.io/migration-guide/)には次のように書いてある。\n",
        "\n",
        "> Explains differences of how train/test modes are switched.\n",
        "> * Chainer: This mode is controlled via a configuration (configuration.config.train).\n",
        "> * PyTorch: This mode is a module state and should be changed using [torch.nn.Module.train(mode)](https://www.google.com/url?q=https://pytorch.org/docs/stable/nn.html%23torch.nn.Module.train&sa=D&source=editors&ust=1615451627944000&usg=AOvVaw1LtL0CCtZGBEHSHWobAyOG), [torch.nn.Module.eval()](https://www.google.com/url?q=https://pytorch.org/docs/stable/nn.html%23torch.nn.Module.eval&sa=D&source=editors&ust=1615451627944000&usg=AOvVaw1zTZQi3CLT-abAXb4xfMZp). This also means that you must pass the “train” argument to functions calls such as [torch.nn.functional.dropout](https://www.google.com/url?q=https://pytorch.org/docs/stable/nn.functional.html%23torch.nn.functional.dropout&sa=D&source=editors&ust=1615451627944000&usg=AOvVaw3WbrBYZ7GIbYZ3YU-g-QHz) otherwise use the [torch.nn.Dropout module](https://www.google.com/url?q=https://pytorch.org/docs/stable/nn.html%23torch.nn.Dropout&sa=D&source=editors&ust=1615451627945000&usg=AOvVaw17jwofkuPJvc55crtYQATG) which is stateful.\n",
        "> * In both Chainer and PyTorch, train/test mode affects the behavior of certain functions/links/modules such as dropout and batch normalization.\n",
        "> * Both Chainer and PyTorch default to train mode."
      ],
      "metadata": {
        "id": "-4o8oOVONwb_"
      }
    },
    {
      "cell_type": "code",
      "source": [
        "def f(x):\n",
        "  y = x * x\n",
        "  return y"
      ],
      "metadata": {
        "id": "WSaDsyMR8zVp"
      },
      "execution_count": 137,
      "outputs": []
    },
    {
      "cell_type": "code",
      "source": [
        "D = 100\n",
        "N = 2\n",
        "xdata = np.random.randn(D*N).reshape(D,N).astype(np.float32)\n",
        "tdata = (xdata[:,1]>f(xdata[:,0])).astype(np.int32)\n",
        "xdata = torch.from_numpy(xdata).clone()\n",
        "tdata = torch.from_numpy(tdata).clone()"
      ],
      "metadata": {
        "id": "V61LzIeWMPs3"
      },
      "execution_count": 138,
      "outputs": []
    },
    {
      "cell_type": "code",
      "source": [
        "# １層のニューラルネットワークを呼び出す\n",
        "class MyNetwork(nn.Module):\n",
        "  def __init__(self, in_features: int, out_features: int):\n",
        "    super(MyNetwork, self).__init__()\n",
        "    self.layer1 = nn.Linear(N,C)\n",
        "\n",
        "C = 2\n",
        "NN = MyNetwork(N,C)\n"
      ],
      "metadata": {
        "id": "gmZ9bo7g82vf"
      },
      "execution_count": 142,
      "outputs": []
    },
    {
      "cell_type": "code",
      "source": [
        "def model(x):\n",
        "  y = NN.layer1(x)\n",
        "  return y\n",
        "\n",
        "def F_accuracy(t,p):\n",
        "    p_arg = torch.argmax(p,dim=1)\n",
        "    return torch.sum(t == p_arg) / len(t)"
      ],
      "metadata": {
        "id": "aKUAAx6K-vKX"
      },
      "execution_count": 148,
      "outputs": []
    },
    {
      "cell_type": "code",
      "source": [
        "# デバッグ。ネットワーク構造の可視化\n",
        "# make_dot(ydata, dict(NN.named_parameters()))\n",
        "# summary(NN)"
      ],
      "metadata": {
        "id": "TzUQFRMjEk2u"
      },
      "execution_count": 149,
      "outputs": []
    },
    {
      "cell_type": "markdown",
      "source": [
        "## 確率的勾配降下法(SGD)の導入\n",
        "\n",
        "単に上でネットワークを作っただけではいい加減な推論をするだけなので、確率的勾配降下法(SGD)を持ち込む。"
      ],
      "metadata": {
        "id": "x3AoLcQhPoHb"
      }
    },
    {
      "cell_type": "code",
      "source": [
        "optNN = optim.SGD(NN.parameters(), lr=0.0001, momentum=0.9)"
      ],
      "metadata": {
        "id": "QXoYBEES-1ym"
      },
      "execution_count": 145,
      "outputs": []
    },
    {
      "cell_type": "code",
      "source": [
        "loss_series = []\n",
        "acc_series = []\n",
        "\n",
        "T = 5000\n",
        "tdata_long = tdata.to(torch.long)\n",
        "for time in range(T):\n",
        "  #NN.train()\n",
        "  optNN.zero_grad()\n",
        "  ydata = model(xdata)\n",
        "  loss = F.cross_entropy(ydata, tdata_long)\n",
        "  acc = F_accuracy(tdata.to(torch.int32), ydata)\n",
        "  loss.backward()\n",
        "  optNN.step()\n",
        "  loss_series.append(loss.item())\n",
        "  acc_series.append(acc.item())"
      ],
      "metadata": {
        "id": "mFQsywDdQB4A"
      },
      "execution_count": 152,
      "outputs": []
    },
    {
      "cell_type": "code",
      "source": [
        "Tall = len(loss_series)\n",
        "plt.figure(figsize=(8,6))\n",
        "plt.plot(range(Tall), loss_series)\n",
        "plt.plot(range(Tall), acc_series)\n",
        "plt.title(\"loss function in training\")\n",
        "plt.xlabel(\"step\")\n",
        "plt.ylabel(\"loss function\")\n",
        "plt.xlim([0,Tall])\n",
        "plt.ylim([0,1])\n",
        "plt.show()"
      ],
      "metadata": {
        "colab": {
          "base_uri": "https://localhost:8080/",
          "height": 404
        },
        "id": "boleZC6i56PJ",
        "outputId": "35aa6071-1733-4b50-cd4f-f706f0dd7e4f"
      },
      "execution_count": 154,
      "outputs": [
        {
          "output_type": "display_data",
          "data": {
            "text/plain": [
              "<Figure size 576x432 with 1 Axes>"
            ],
            "image/png": "[encoded data removed]"
          },
          "metadata": {
            "needs_background": "light"
          }
        }
      ]
    },
    {
      "cell_type": "code",
      "source": [
        "# ２層のネットワーク\n",
        "class Network2(nn.Module):\n",
        "  def __init__(self, in_features: int, out_features: int):\n",
        "    super(Network2, self).__init__()\n",
        "    self.layer1 = nn.Linear(N,N*2)\n",
        "    self.layer2 = nn.Linear(N*2,C)\n",
        "    self.activation = nn.Sigmoid()\n",
        "\n",
        "  # def forward(self, input):\n",
        "  #   x = self.activation(self.layer1(input))\n",
        "  #   x = self.layer2(x)\n",
        "  #   return x\n",
        "\n",
        "def model2(x):\n",
        "  x = NN2.activation(NN2.layer1(x))\n",
        "  x = NN2.layer2(x)\n",
        "  return x\n",
        "\n",
        "NN2 = Network2(N,C)\n",
        "optNN2 = optim.SGD(NN2.parameters(), lr=0.0001, momentum=0.9)\n",
        "\n",
        "loss_series = []\n",
        "acc_series = []\n",
        "\n",
        "T = 20000\n",
        "tdata_long = tdata.to(torch.long)\n",
        "for time in range(T):\n",
        "  optNN2.zero_grad()\n",
        "  ydata = model2(xdata)\n",
        "  loss = F.cross_entropy(ydata, tdata_long)\n",
        "  acc = F_accuracy(tdata.to(torch.int32), ydata)\n",
        "  loss.backward()\n",
        "  optNN2.step()\n",
        "  loss_series.append(loss.item())\n",
        "  acc_series.append(acc.item())\n",
        "\n",
        "Tall = len(loss_series)\n",
        "plt.figure(figsize=(8,6))\n",
        "plt.plot(range(Tall), loss_series)\n",
        "plt.plot(range(Tall), acc_series)\n",
        "plt.title(\"loss function in training\")\n",
        "plt.xlabel(\"step\")\n",
        "plt.ylabel(\"loss function\")\n",
        "plt.xlim([0,Tall])\n",
        "plt.ylim([0,1])\n",
        "plt.show()"
      ],
      "metadata": {
        "colab": {
          "base_uri": "https://localhost:8080/",
          "height": 404
        },
        "id": "U12gnpBHzazz",
        "outputId": "8c8f1672-8a34-49ae-bb6b-dcaff7291388"
      },
      "execution_count": 167,
      "outputs": [
        {
          "output_type": "display_data",
          "data": {
            "text/plain": [
              "<Figure size 576x432 with 1 Axes>"
            ],
            "image/png": "[encoded data removed]"
          },
          "metadata": {
            "needs_background": "light"
          }
        }
      ]
    }
  ]
}