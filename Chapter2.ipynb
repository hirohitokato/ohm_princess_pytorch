{
  "nbformat": 4,
  "nbformat_minor": 0,
  "metadata": {
    "colab": {
      "provenance": [],
      "authorship_tag": "ABX9TyMvRLM+fP6TTiN8O4pM67zQ",
      "include_colab_link": true
    },
    "kernelspec": {
      "name": "python3",
      "display_name": "Python 3"
    },
    "language_info": {
      "name": "python"
    }
  },
  "cells": [
    {
      "cell_type": "markdown",
      "metadata": {
        "id": "view-in-github",
        "colab_type": "text"
      },
      "source": [
        "<a href=\"https://colab.research.google.com/github/hirohitokato/ohm_princess_pytorch/blob/main/Chapter2.ipynb\" target=\"_parent\"><img src=\"https://colab.research.google.com/assets/colab-badge.svg\" alt=\"Open In Colab\"/></a>"
      ]
    },
    {
      "cell_type": "markdown",
      "source": [
        "\n",
        "# Pythonで機械学習入門機械学習入門(Pytorch版) **Chapter2**"
      ],
      "metadata": {
        "id": "nIANBcW-MJWA"
      }
    },
    {
      "cell_type": "code",
      "execution_count": 4,
      "metadata": {
        "id": "U8cgc87PMHI3"
      },
      "outputs": [],
      "source": [
        "import numpy as np\n",
        "import matplotlib.pyplot as plt\n",
        "import torch.optim as optim\t# 最適化関数関係(from chainer import optimizers)\n",
        "import torch.nn.functional as F\t# 関数関係(import chainer.functions as F)\n",
        "import torch.nn as nn\t# ネットワーク関係(import chainer.links as L)"
      ]
    },
    {
      "cell_type": "markdown",
      "source": [
        "`from chainer import Variable, Chain, config` については以下のように扱う。。\n",
        "* `Variable(np.ndarray)` : `torch.from_numpy(np.ndarray)`\n",
        "* `class DNN(Chain):` : `class DNN(nn.Module):`\n",
        "* `config.train = True` : **不明。要調査**\n",
        "\n",
        "[公式のmigration_guide](https://chainer.github.io/migration-guide/)には次のように書いてある。\n",
        "\n",
        "> Explains differences of how train/test modes are switched.\n",
        "> * Chainer: This mode is controlled via a configuration (configuration.config.train).\n",
        "> * PyTorch: This mode is a module state and should be changed using [torch.nn.Module.train(mode)](https://www.google.com/url?q=https://pytorch.org/docs/stable/nn.html%23torch.nn.Module.train&sa=D&source=editors&ust=1615451627944000&usg=AOvVaw1LtL0CCtZGBEHSHWobAyOG), [torch.nn.Module.eval()](https://www.google.com/url?q=https://pytorch.org/docs/stable/nn.html%23torch.nn.Module.eval&sa=D&source=editors&ust=1615451627944000&usg=AOvVaw1zTZQi3CLT-abAXb4xfMZp). This also means that you must pass the “train” argument to functions calls such as [torch.nn.functional.dropout](https://www.google.com/url?q=https://pytorch.org/docs/stable/nn.functional.html%23torch.nn.functional.dropout&sa=D&source=editors&ust=1615451627944000&usg=AOvVaw3WbrBYZ7GIbYZ3YU-g-QHz) otherwise use the [torch.nn.Dropout module](https://www.google.com/url?q=https://pytorch.org/docs/stable/nn.html%23torch.nn.Dropout&sa=D&source=editors&ust=1615451627945000&usg=AOvVaw17jwofkuPJvc55crtYQATG) which is stateful.\n",
        "> * In both Chainer and PyTorch, train/test mode affects the behavior of certain functions/links/modules such as dropout and batch normalization.\n",
        "> * Both Chainer and PyTorch default to train mode."
      ],
      "metadata": {
        "id": "-4o8oOVONwb_"
      }
    },
    {
      "cell_type": "code",
      "source": [
        "D = 100\n",
        "N = 2\n",
        "xdata = np.random.randn(D*N).reshape(D,N).astype(np.float32)"
      ],
      "metadata": {
        "id": "V61LzIeWMPs3"
      },
      "execution_count": null,
      "outputs": []
    }
  ]
}