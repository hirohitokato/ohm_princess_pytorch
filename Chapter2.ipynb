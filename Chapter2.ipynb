{
  "nbformat": 4,
  "nbformat_minor": 0,
  "metadata": {
    "colab": {
      "provenance": [],
      "authorship_tag": "ABX9TyNUUsT9DD/sWOIo5+NvPc78",
      "include_colab_link": true
    },
    "kernelspec": {
      "name": "python3",
      "display_name": "Python 3"
    },
    "language_info": {
      "name": "python"
    }
  },
  "cells": [
    {
      "cell_type": "markdown",
      "metadata": {
        "id": "view-in-github",
        "colab_type": "text"
      },
      "source": [
        "<a href=\"https://colab.research.google.com/github/hirohitokato/ohm_princess_pytorch/blob/main/Chapter2.ipynb\" target=\"_parent\"><img src=\"https://colab.research.google.com/assets/colab-badge.svg\" alt=\"Open In Colab\"/></a>"
      ]
    },
    {
      "cell_type": "markdown",
      "source": [
        "\n",
        "# Pythonで機械学習入門機械学習入門(Pytorch版) **Chapter2**"
      ],
      "metadata": {
        "id": "nIANBcW-MJWA"
      }
    },
    {
      "cell_type": "code",
      "execution_count": 4,
      "metadata": {
        "id": "U8cgc87PMHI3"
      },
      "outputs": [],
      "source": [
        "import numpy as np\n",
        "import matplotlib.pyplot as plt\n",
        "import torch.optim as optim\t# 最適化関数関係(from chainer import optimizers)\n",
        "import torch.nn.functional as F\t# 関数関係(import chainer.functions as F)\n",
        "import torch.nn as nn\t# ネットワーク関係(import chainer.links as L)"
      ]
    },
    {
      "cell_type": "markdown",
      "source": [
        "`from chainer import Variable, Chain, config` については以下のように扱う。。\n",
        "* `Variable(np.ndarray)` : `torch.from_numpy(np.ndarray)`\n",
        "* `class DNN(Chain):` : `class DNN(nn.Module):`\n",
        "* `config.train = True` : **不明。要調査**\n"
      ],
      "metadata": {
        "id": "-4o8oOVONwb_"
      }
    },
    {
      "cell_type": "code",
      "source": [
        "D = 100\n",
        "N = 2\n",
        "xdata = np.random.randn(D*N).reshape(D,N).astype(np.float32)"
      ],
      "metadata": {
        "id": "V61LzIeWMPs3"
      },
      "execution_count": null,
      "outputs": []
    }
  ]
}