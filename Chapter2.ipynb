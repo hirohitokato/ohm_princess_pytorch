{
  "nbformat": 4,
  "nbformat_minor": 0,
  "metadata": {
    "colab": {
      "provenance": [],
      "collapsed_sections": [],
      "authorship_tag": "ABX9TyNohvKb82zHijXe7ybkgRq5",
      "include_colab_link": true
    },
    "kernelspec": {
      "name": "python3",
      "display_name": "Python 3"
    },
    "language_info": {
      "name": "python"
    }
  },
  "cells": [
    {
      "cell_type": "markdown",
      "metadata": {
        "id": "view-in-github",
        "colab_type": "text"
      },
      "source": [
        "<a href=\"https://colab.research.google.com/github/hirohitokato/ohm_princess_pytorch/blob/main/Chapter2.ipynb\" target=\"_parent\"><img src=\"https://colab.research.google.com/assets/colab-badge.svg\" alt=\"Open In Colab\"/></a>"
      ]
    },
    {
      "cell_type": "markdown",
      "source": [
        "# Pythonで機械学習入門機械学習入門(Pytorch版) **Chapter2**"
      ],
      "metadata": {
        "id": "nIANBcW-MJWA"
      }
    },
    {
      "cell_type": "code",
      "source": [
        "!pip install pytorch-ignite\n",
        "!pip install torchviz\n",
        "!pip install torchinfo"
      ],
      "metadata": {
        "colab": {
          "base_uri": "https://localhost:8080/"
        },
        "id": "P6CcB8UeCvCo",
        "outputId": "4e1efaa5-98e7-4fe1-d9e4-257098122650"
      },
      "execution_count": null,
      "outputs": [
        {
          "output_type": "stream",
          "name": "stdout",
          "text": [
            "Looking in indexes: https://pypi.org/simple, https://us-python.pkg.dev/colab-wheels/public/simple/\n",
            "Collecting pytorch-ignite\n",
            "  Downloading pytorch_ignite-0.4.10-py3-none-any.whl (264 kB)\n",
            "\u001b[K     |████████████████████████████████| 264 kB 5.3 MB/s \n",
            "\u001b[?25hRequirement already satisfied: torch<2,>=1.3 in /usr/local/lib/python3.7/dist-packages (from pytorch-ignite) (1.12.1+cu113)\n",
            "Requirement already satisfied: packaging in /usr/local/lib/python3.7/dist-packages (from pytorch-ignite) (21.3)\n",
            "Requirement already satisfied: typing-extensions in /usr/local/lib/python3.7/dist-packages (from torch<2,>=1.3->pytorch-ignite) (4.1.1)\n",
            "Requirement already satisfied: pyparsing!=3.0.5,>=2.0.2 in /usr/local/lib/python3.7/dist-packages (from packaging->pytorch-ignite) (3.0.9)\n",
            "Installing collected packages: pytorch-ignite\n",
            "Successfully installed pytorch-ignite-0.4.10\n",
            "Looking in indexes: https://pypi.org/simple, https://us-python.pkg.dev/colab-wheels/public/simple/\n",
            "Requirement already satisfied: torchviz in /usr/local/lib/python3.7/dist-packages (0.0.2)\n",
            "Requirement already satisfied: graphviz in /usr/local/lib/python3.7/dist-packages (from torchviz) (0.10.1)\n",
            "Requirement already satisfied: torch in /usr/local/lib/python3.7/dist-packages (from torchviz) (1.12.1+cu113)\n",
            "Requirement already satisfied: typing-extensions in /usr/local/lib/python3.7/dist-packages (from torch->torchviz) (4.1.1)\n",
            "Looking in indexes: https://pypi.org/simple, https://us-python.pkg.dev/colab-wheels/public/simple/\n",
            "Requirement already satisfied: torchinfo in /usr/local/lib/python3.7/dist-packages (1.7.1)\n"
          ]
        }
      ]
    },
    {
      "cell_type": "code",
      "execution_count": null,
      "metadata": {
        "id": "U8cgc87PMHI3"
      },
      "outputs": [],
      "source": [
        "import numpy as np\n",
        "import matplotlib.pyplot as plt\n",
        "import torch\n",
        "import torch.optim as optim\t# 最適化関数関係(from chainer import optimizers)\n",
        "import torch.nn.functional as F\t# 関数関係(import chainer.functions as F)\n",
        "import torch.nn as nn\t# ネットワーク関係(import chainer.links as L)\n",
        "\n",
        "# デバッグ用途\n",
        "from torchviz import make_dot\n",
        "from torchinfo import summary"
      ]
    },
    {
      "cell_type": "markdown",
      "source": [
        "`from chainer import Variable, Chain, config` については以下のように扱う。。\n",
        "* `Variable(np.ndarray)` : `torch.from_numpy(np.ndarray)`\n",
        "* `class DNN(Chain):` : `class DNN(nn.Module):`\n",
        "* `config.train = True` : **不明。要調査**\n",
        "\n",
        "[公式のmigration_guide](https://chainer.github.io/migration-guide/)には次のように書いてある。\n",
        "\n",
        "> Explains differences of how train/test modes are switched.\n",
        "> * Chainer: This mode is controlled via a configuration (configuration.config.train).\n",
        "> * PyTorch: This mode is a module state and should be changed using [torch.nn.Module.train(mode)](https://www.google.com/url?q=https://pytorch.org/docs/stable/nn.html%23torch.nn.Module.train&sa=D&source=editors&ust=1615451627944000&usg=AOvVaw1LtL0CCtZGBEHSHWobAyOG), [torch.nn.Module.eval()](https://www.google.com/url?q=https://pytorch.org/docs/stable/nn.html%23torch.nn.Module.eval&sa=D&source=editors&ust=1615451627944000&usg=AOvVaw1zTZQi3CLT-abAXb4xfMZp). This also means that you must pass the “train” argument to functions calls such as [torch.nn.functional.dropout](https://www.google.com/url?q=https://pytorch.org/docs/stable/nn.functional.html%23torch.nn.functional.dropout&sa=D&source=editors&ust=1615451627944000&usg=AOvVaw3WbrBYZ7GIbYZ3YU-g-QHz) otherwise use the [torch.nn.Dropout module](https://www.google.com/url?q=https://pytorch.org/docs/stable/nn.html%23torch.nn.Dropout&sa=D&source=editors&ust=1615451627945000&usg=AOvVaw17jwofkuPJvc55crtYQATG) which is stateful.\n",
        "> * In both Chainer and PyTorch, train/test mode affects the behavior of certain functions/links/modules such as dropout and batch normalization.\n",
        "> * Both Chainer and PyTorch default to train mode."
      ],
      "metadata": {
        "id": "-4o8oOVONwb_"
      }
    },
    {
      "cell_type": "code",
      "source": [
        "def f(x):\n",
        "  y = x * x\n",
        "  return y"
      ],
      "metadata": {
        "id": "WSaDsyMR8zVp"
      },
      "execution_count": null,
      "outputs": []
    },
    {
      "cell_type": "code",
      "source": [
        "D = 100\n",
        "N = 2\n",
        "xdata = np.random.randn(D*N).reshape(D,N).astype(np.float32)\n",
        "tdata = (xdata[:,1]>f(xdata[:,0])).astype(np.int32)\n",
        "xdata = torch.from_numpy(xdata).clone()\n",
        "tdata = torch.from_numpy(tdata).clone()"
      ],
      "metadata": {
        "id": "V61LzIeWMPs3"
      },
      "execution_count": null,
      "outputs": []
    },
    {
      "cell_type": "code",
      "source": [
        "# １層のニューラルネットワークを呼び出す\n",
        "class MyNetwork(nn.Module):\n",
        "  def __init__(self, in_features: int, out_features: int):\n",
        "    super(MyNetwork, self).__init__()\n",
        "    self.layer1 = nn.Linear(N,C)\n",
        "\n",
        "C = 2\n",
        "NN = MyNetwork(N,C)\n"
      ],
      "metadata": {
        "id": "gmZ9bo7g82vf"
      },
      "execution_count": null,
      "outputs": []
    },
    {
      "cell_type": "code",
      "source": [
        "def model(x):\n",
        "  y = NN.layer1(x)\n",
        "  return y\n",
        "\n",
        "def F_accuracy(t,p):\n",
        "    p_arg = torch.argmax(p,dim=1)\n",
        "    return torch.sum(t == p_arg) / len(t)"
      ],
      "metadata": {
        "id": "aKUAAx6K-vKX"
      },
      "execution_count": null,
      "outputs": []
    },
    {
      "cell_type": "code",
      "source": [
        "# デバッグ。ネットワーク構造の可視化\n",
        "# make_dot(ydata, dict(NN.named_parameters()))\n",
        "# summary(NN)"
      ],
      "metadata": {
        "id": "TzUQFRMjEk2u"
      },
      "execution_count": null,
      "outputs": []
    },
    {
      "cell_type": "markdown",
      "source": [
        "## 確率的勾配降下法(SGD)の導入\n",
        "\n",
        "単に上でネットワークを作っただけではいい加減な推論をするだけなので、確率的勾配降下法(SGD)を持ち込む。"
      ],
      "metadata": {
        "id": "x3AoLcQhPoHb"
      }
    },
    {
      "cell_type": "code",
      "source": [
        "optNN = optim.SGD(NN.parameters(), lr=0.0001, momentum=0.9)"
      ],
      "metadata": {
        "id": "QXoYBEES-1ym"
      },
      "execution_count": null,
      "outputs": []
    },
    {
      "cell_type": "code",
      "source": [
        "loss_series = []\n",
        "acc_series = []\n",
        "\n",
        "T = 5000\n",
        "tdata_long = tdata.to(torch.long)\n",
        "for time in range(T):\n",
        "  #NN.train()\n",
        "  optNN.zero_grad()\n",
        "  ydata = model(xdata)\n",
        "  loss = F.cross_entropy(ydata, tdata_long)\n",
        "  acc = F_accuracy(torch.argmax(ydata,dim=1), tdata.to(torch.int32))\n",
        "  loss.backward()\n",
        "  optNN.step()\n",
        "  loss_series.append(loss.item())\n",
        "  acc_series.append(acc.item())"
      ],
      "metadata": {
        "id": "mFQsywDdQB4A"
      },
      "execution_count": null,
      "outputs": []
    },
    {
      "cell_type": "code",
      "source": [
        "Tall = len(loss_series)\n",
        "plt.figure(figsize=(8,6))\n",
        "plt.plot(range(Tall), loss_series)\n",
        "plt.plot(range(Tall), acc_series)\n",
        "plt.title(\"loss function in training\")\n",
        "plt.xlabel(\"step\")\n",
        "plt.ylabel(\"loss function\")\n",
        "plt.xlim([0,Tall])\n",
        "plt.ylim([0,1])\n",
        "plt.show()"
      ],
      "metadata": {
        "colab": {
          "base_uri": "https://localhost:8080/",
          "height": 404
        },
        "id": "boleZC6i56PJ",
        "outputId": "dc50dc2b-0bb7-4083-ff22-58d6a23584c8"
      },
      "execution_count": null,
      "outputs": [
        {
          "output_type": "display_data",
          "data": {
            "text/plain": [
              "<Figure size 576x432 with 1 Axes>"
            ],
            "image/png": "[encoded data removed]"
          },
          "metadata": {
            "needs_background": "light"
          }
        }
      ]
    },
    {
      "cell_type": "code",
      "source": [
        "# ２層のネットワーク\n",
        "class Network2(nn.Module):\n",
        "  def __init__(self, in_features: int, out_features: int):\n",
        "    super(Network2, self).__init__()\n",
        "    self.layer1 = nn.Linear(N,N*4)\n",
        "    self.layer2 = nn.Linear(N*4,C)\n",
        "    self.activation = nn.Sigmoid()\n",
        "\n",
        "  def forward(self, x):\n",
        "    x = self.activation(self.layer1(x))\n",
        "    x = self.layer2(x)\n",
        "    return x\n",
        "\n",
        "NN2 = Network2(N,C)\n",
        "optNN2 = optim.SGD(NN2.parameters(), lr=0.001)\n",
        "\n",
        "loss_series = []\n",
        "acc_series = []\n",
        "\n",
        "criterion = nn.MSELoss()\n",
        "\n",
        "T = 20000\n",
        "tdata_long = tdata.to(torch.long)\n",
        "for time in range(T):\n",
        "  optNN2.zero_grad()\n",
        "  ydata = NN2(xdata)\n",
        "  \n",
        "  loss = criterion(ydata, tdata_long)\n",
        "  acc = F_accuracy(tdata.to(torch.int32), ydata)\n",
        "  loss.backward()\n",
        "  optNN2.step()\n",
        "  loss_series.append(loss.item())\n",
        "  acc_series.append(acc.item())\n",
        "\n",
        "# make_dot(ydata, dict(NN2.named_parameters()))\n",
        "\n",
        "Tall = len(loss_series)\n",
        "plt.figure(figsize=(8,6))\n",
        "plt.plot(range(Tall), loss_series)\n",
        "plt.plot(range(Tall), acc_series)\n",
        "plt.title(\"loss function in training\")\n",
        "plt.xlabel(\"step\")\n",
        "plt.ylabel(\"loss function\")\n",
        "plt.xlim([0,Tall])\n",
        "plt.ylim([0,1])\n",
        "plt.show()"
      ],
      "metadata": {
        "colab": {
          "base_uri": "https://localhost:8080/",
          "height": 459
        },
        "id": "U12gnpBHzazz",
        "outputId": "14fbf3ba-c806-4cdc-e1ab-fd376f1577ad"
      },
      "execution_count": null,
      "outputs": [
        {
          "output_type": "stream",
          "name": "stderr",
          "text": [
            "/usr/local/lib/python3.7/dist-packages/torch/nn/modules/loss.py:530: UserWarning: Using a target size (torch.Size([100])) that is different to the input size (torch.Size([100, 2])). This will likely lead to incorrect results due to broadcasting. Please ensure they have the same size.\n",
            "  return F.mse_loss(input, target, reduction=self.reduction)\n"
          ]
        },
        {
          "output_type": "error",
          "ename": "RuntimeError",
          "evalue": "ignored",
          "traceback": [
            "\u001b[0;31m---------------------------------------------------------------------------\u001b[0m",
            "\u001b[0;31mRuntimeError\u001b[0m                              Traceback (most recent call last)",
            "\u001b[0;32m<ipython-input-43-c6e55422295d>\u001b[0m in \u001b[0;36m<module>\u001b[0;34m\u001b[0m\n\u001b[1;32m     26\u001b[0m   \u001b[0mydata\u001b[0m \u001b[0;34m=\u001b[0m \u001b[0mNN2\u001b[0m\u001b[0;34m(\u001b[0m\u001b[0mxdata\u001b[0m\u001b[0;34m)\u001b[0m\u001b[0;34m\u001b[0m\u001b[0;34m\u001b[0m\u001b[0m\n\u001b[1;32m     27\u001b[0m \u001b[0;34m\u001b[0m\u001b[0m\n\u001b[0;32m---> 28\u001b[0;31m   \u001b[0mloss\u001b[0m \u001b[0;34m=\u001b[0m \u001b[0mcriterion\u001b[0m\u001b[0;34m(\u001b[0m\u001b[0mydata\u001b[0m\u001b[0;34m,\u001b[0m \u001b[0mtdata_long\u001b[0m\u001b[0;34m)\u001b[0m\u001b[0;34m\u001b[0m\u001b[0;34m\u001b[0m\u001b[0m\n\u001b[0m\u001b[1;32m     29\u001b[0m   \u001b[0macc\u001b[0m \u001b[0;34m=\u001b[0m \u001b[0mF_accuracy\u001b[0m\u001b[0;34m(\u001b[0m\u001b[0mtdata\u001b[0m\u001b[0;34m.\u001b[0m\u001b[0mto\u001b[0m\u001b[0;34m(\u001b[0m\u001b[0mtorch\u001b[0m\u001b[0;34m.\u001b[0m\u001b[0mint32\u001b[0m\u001b[0;34m)\u001b[0m\u001b[0;34m,\u001b[0m \u001b[0mydata\u001b[0m\u001b[0;34m)\u001b[0m\u001b[0;34m\u001b[0m\u001b[0;34m\u001b[0m\u001b[0m\n\u001b[1;32m     30\u001b[0m   \u001b[0mloss\u001b[0m\u001b[0;34m.\u001b[0m\u001b[0mbackward\u001b[0m\u001b[0;34m(\u001b[0m\u001b[0;34m)\u001b[0m\u001b[0;34m\u001b[0m\u001b[0;34m\u001b[0m\u001b[0m\n",
            "\u001b[0;32m/usr/local/lib/python3.7/dist-packages/torch/nn/modules/module.py\u001b[0m in \u001b[0;36m_call_impl\u001b[0;34m(self, *input, **kwargs)\u001b[0m\n\u001b[1;32m   1128\u001b[0m         if not (self._backward_hooks or self._forward_hooks or self._forward_pre_hooks or _global_backward_hooks\n\u001b[1;32m   1129\u001b[0m                 or _global_forward_hooks or _global_forward_pre_hooks):\n\u001b[0;32m-> 1130\u001b[0;31m             \u001b[0;32mreturn\u001b[0m \u001b[0mforward_call\u001b[0m\u001b[0;34m(\u001b[0m\u001b[0;34m*\u001b[0m\u001b[0minput\u001b[0m\u001b[0;34m,\u001b[0m \u001b[0;34m**\u001b[0m\u001b[0mkwargs\u001b[0m\u001b[0;34m)\u001b[0m\u001b[0;34m\u001b[0m\u001b[0;34m\u001b[0m\u001b[0m\n\u001b[0m\u001b[1;32m   1131\u001b[0m         \u001b[0;31m# Do not call functions when jit is used\u001b[0m\u001b[0;34m\u001b[0m\u001b[0;34m\u001b[0m\u001b[0;34m\u001b[0m\u001b[0m\n\u001b[1;32m   1132\u001b[0m         \u001b[0mfull_backward_hooks\u001b[0m\u001b[0;34m,\u001b[0m \u001b[0mnon_full_backward_hooks\u001b[0m \u001b[0;34m=\u001b[0m \u001b[0;34m[\u001b[0m\u001b[0;34m]\u001b[0m\u001b[0;34m,\u001b[0m \u001b[0;34m[\u001b[0m\u001b[0;34m]\u001b[0m\u001b[0;34m\u001b[0m\u001b[0;34m\u001b[0m\u001b[0m\n",
            "\u001b[0;32m/usr/local/lib/python3.7/dist-packages/torch/nn/modules/loss.py\u001b[0m in \u001b[0;36mforward\u001b[0;34m(self, input, target)\u001b[0m\n\u001b[1;32m    528\u001b[0m \u001b[0;34m\u001b[0m\u001b[0m\n\u001b[1;32m    529\u001b[0m     \u001b[0;32mdef\u001b[0m \u001b[0mforward\u001b[0m\u001b[0;34m(\u001b[0m\u001b[0mself\u001b[0m\u001b[0;34m,\u001b[0m \u001b[0minput\u001b[0m\u001b[0;34m:\u001b[0m \u001b[0mTensor\u001b[0m\u001b[0;34m,\u001b[0m \u001b[0mtarget\u001b[0m\u001b[0;34m:\u001b[0m \u001b[0mTensor\u001b[0m\u001b[0;34m)\u001b[0m \u001b[0;34m->\u001b[0m \u001b[0mTensor\u001b[0m\u001b[0;34m:\u001b[0m\u001b[0;34m\u001b[0m\u001b[0;34m\u001b[0m\u001b[0m\n\u001b[0;32m--> 530\u001b[0;31m         \u001b[0;32mreturn\u001b[0m \u001b[0mF\u001b[0m\u001b[0;34m.\u001b[0m\u001b[0mmse_loss\u001b[0m\u001b[0;34m(\u001b[0m\u001b[0minput\u001b[0m\u001b[0;34m,\u001b[0m \u001b[0mtarget\u001b[0m\u001b[0;34m,\u001b[0m \u001b[0mreduction\u001b[0m\u001b[0;34m=\u001b[0m\u001b[0mself\u001b[0m\u001b[0;34m.\u001b[0m\u001b[0mreduction\u001b[0m\u001b[0;34m)\u001b[0m\u001b[0;34m\u001b[0m\u001b[0;34m\u001b[0m\u001b[0m\n\u001b[0m\u001b[1;32m    531\u001b[0m \u001b[0;34m\u001b[0m\u001b[0m\n\u001b[1;32m    532\u001b[0m \u001b[0;34m\u001b[0m\u001b[0m\n",
            "\u001b[0;32m/usr/local/lib/python3.7/dist-packages/torch/nn/functional.py\u001b[0m in \u001b[0;36mmse_loss\u001b[0;34m(input, target, size_average, reduce, reduction)\u001b[0m\n\u001b[1;32m   3277\u001b[0m         \u001b[0mreduction\u001b[0m \u001b[0;34m=\u001b[0m \u001b[0m_Reduction\u001b[0m\u001b[0;34m.\u001b[0m\u001b[0mlegacy_get_string\u001b[0m\u001b[0;34m(\u001b[0m\u001b[0msize_average\u001b[0m\u001b[0;34m,\u001b[0m \u001b[0mreduce\u001b[0m\u001b[0;34m)\u001b[0m\u001b[0;34m\u001b[0m\u001b[0;34m\u001b[0m\u001b[0m\n\u001b[1;32m   3278\u001b[0m \u001b[0;34m\u001b[0m\u001b[0m\n\u001b[0;32m-> 3279\u001b[0;31m     \u001b[0mexpanded_input\u001b[0m\u001b[0;34m,\u001b[0m \u001b[0mexpanded_target\u001b[0m \u001b[0;34m=\u001b[0m \u001b[0mtorch\u001b[0m\u001b[0;34m.\u001b[0m\u001b[0mbroadcast_tensors\u001b[0m\u001b[0;34m(\u001b[0m\u001b[0minput\u001b[0m\u001b[0;34m,\u001b[0m \u001b[0mtarget\u001b[0m\u001b[0;34m)\u001b[0m\u001b[0;34m\u001b[0m\u001b[0;34m\u001b[0m\u001b[0m\n\u001b[0m\u001b[1;32m   3280\u001b[0m     \u001b[0;32mreturn\u001b[0m \u001b[0mtorch\u001b[0m\u001b[0;34m.\u001b[0m\u001b[0m_C\u001b[0m\u001b[0;34m.\u001b[0m\u001b[0m_nn\u001b[0m\u001b[0;34m.\u001b[0m\u001b[0mmse_loss\u001b[0m\u001b[0;34m(\u001b[0m\u001b[0mexpanded_input\u001b[0m\u001b[0;34m,\u001b[0m \u001b[0mexpanded_target\u001b[0m\u001b[0;34m,\u001b[0m \u001b[0m_Reduction\u001b[0m\u001b[0;34m.\u001b[0m\u001b[0mget_enum\u001b[0m\u001b[0;34m(\u001b[0m\u001b[0mreduction\u001b[0m\u001b[0;34m)\u001b[0m\u001b[0;34m)\u001b[0m\u001b[0;34m\u001b[0m\u001b[0;34m\u001b[0m\u001b[0m\n\u001b[1;32m   3281\u001b[0m \u001b[0;34m\u001b[0m\u001b[0m\n",
            "\u001b[0;32m/usr/local/lib/python3.7/dist-packages/torch/functional.py\u001b[0m in \u001b[0;36mbroadcast_tensors\u001b[0;34m(*tensors)\u001b[0m\n\u001b[1;32m     71\u001b[0m     \u001b[0;32mif\u001b[0m \u001b[0mhas_torch_function\u001b[0m\u001b[0;34m(\u001b[0m\u001b[0mtensors\u001b[0m\u001b[0;34m)\u001b[0m\u001b[0;34m:\u001b[0m\u001b[0;34m\u001b[0m\u001b[0;34m\u001b[0m\u001b[0m\n\u001b[1;32m     72\u001b[0m         \u001b[0;32mreturn\u001b[0m \u001b[0mhandle_torch_function\u001b[0m\u001b[0;34m(\u001b[0m\u001b[0mbroadcast_tensors\u001b[0m\u001b[0;34m,\u001b[0m \u001b[0mtensors\u001b[0m\u001b[0;34m,\u001b[0m \u001b[0;34m*\u001b[0m\u001b[0mtensors\u001b[0m\u001b[0;34m)\u001b[0m\u001b[0;34m\u001b[0m\u001b[0;34m\u001b[0m\u001b[0m\n\u001b[0;32m---> 73\u001b[0;31m     \u001b[0;32mreturn\u001b[0m \u001b[0m_VF\u001b[0m\u001b[0;34m.\u001b[0m\u001b[0mbroadcast_tensors\u001b[0m\u001b[0;34m(\u001b[0m\u001b[0mtensors\u001b[0m\u001b[0;34m)\u001b[0m  \u001b[0;31m# type: ignore[attr-defined]\u001b[0m\u001b[0;34m\u001b[0m\u001b[0;34m\u001b[0m\u001b[0m\n\u001b[0m\u001b[1;32m     74\u001b[0m \u001b[0;34m\u001b[0m\u001b[0m\n\u001b[1;32m     75\u001b[0m \u001b[0;34m\u001b[0m\u001b[0m\n",
            "\u001b[0;31mRuntimeError\u001b[0m: The size of tensor a (2) must match the size of tensor b (100) at non-singleton dimension 1"
          ]
        }
      ]
    }
  ]
}